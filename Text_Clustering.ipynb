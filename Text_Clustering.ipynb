{
  "nbformat": 4,
  "nbformat_minor": 0,
  "metadata": {
    "colab": {
      "name": "Text-Clustering.ipynb",
      "provenance": [],
      "collapsed_sections": [],
      "authorship_tag": "ABX9TyNBZ8o+/PruoX/ySLwo1w0s",
      "include_colab_link": true
    },
    "kernelspec": {
      "name": "python3",
      "display_name": "Python 3"
    },
    "language_info": {
      "name": "python"
    }
  },
  "cells": [
    {
      "cell_type": "markdown",
      "metadata": {
        "id": "view-in-github",
        "colab_type": "text"
      },
      "source": [
        "<a href=\"https://colab.research.google.com/github/jincy-p-janardhanan/Text-Clustering/blob/main/Text_Clustering.ipynb\" target=\"_parent\"><img src=\"https://colab.research.google.com/assets/colab-badge.svg\" alt=\"Open In Colab\"/></a>"
      ]
    },
    {
      "cell_type": "markdown",
      "source": [
        "# Preliminaries"
      ],
      "metadata": {
        "id": "vusYIHwGw513"
      }
    },
    {
      "cell_type": "code",
      "source": [
        "! pip install contractions\n",
        "! pip install autocorrect\n",
        "! pip install pattern"
      ],
      "metadata": {
        "id": "ujiBTnUWxS63"
      },
      "execution_count": null,
      "outputs": []
    },
    {
      "cell_type": "code",
      "execution_count": 2,
      "metadata": {
        "id": "6N52RhCg0FLw"
      },
      "outputs": [],
      "source": [
        "import requests\n",
        "import nltk\n",
        "import contractions\n",
        "import string\n",
        "import autocorrect\n",
        "import re\n",
        "from gensim.utils import lemmatize"
      ]
    },
    {
      "cell_type": "code",
      "source": [
        "nltk.download('punkt')\n",
        "nltk.download('stopwords')"
      ],
      "metadata": {
        "id": "xdD9kYevxeFT"
      },
      "execution_count": null,
      "outputs": []
    },
    {
      "cell_type": "markdown",
      "source": [
        "## Download dataset"
      ],
      "metadata": {
        "id": "1FwEsvCS0Nhc"
      }
    },
    {
      "cell_type": "code",
      "source": [
        "def downloadfile(url, path):\n",
        "  r = requests.get(url, stream=True)\n",
        "  with open(path, \"wb\") as f:\n",
        "    for block in r.iter_content(chunk_size=1024):\n",
        "      if block:\n",
        "        f.write(block)"
      ],
      "metadata": {
        "id": "CWj8xOJN19oc"
      },
      "execution_count": 4,
      "outputs": []
    },
    {
      "cell_type": "code",
      "source": [
        "url = 'https://archive.ics.uci.edu/ml/machine-learning-databases/00314/%5bUCI%5d%20AAAI-13%20Accepted%20Papers%20-%20Papers.csv'\n",
        "loc = '/content/'\n",
        "filename = 'AAAI-accepted-papers-2013.csv'\n",
        "path = loc+filename\n",
        "downloadfile(url, path)"
      ],
      "metadata": {
        "id": "VqSXyp4m0_rr"
      },
      "execution_count": 5,
      "outputs": []
    },
    {
      "cell_type": "markdown",
      "source": [
        "## Load Dataset"
      ],
      "metadata": {
        "id": "dtxubAv23gy_"
      }
    },
    {
      "cell_type": "code",
      "source": [
        "import pandas as pd"
      ],
      "metadata": {
        "id": "DB9wm7Ov1QRx"
      },
      "execution_count": 6,
      "outputs": []
    },
    {
      "cell_type": "code",
      "source": [
        "df = pd.read_csv(path)\n",
        "df.head()"
      ],
      "metadata": {
        "colab": {
          "base_uri": "https://localhost:8080/",
          "height": 975
        },
        "id": "7sQZY6DA2hmz",
        "outputId": "e58c3887-ce4c-4037-cf15-b177d7b54700"
      },
      "execution_count": 7,
      "outputs": [
        {
          "output_type": "execute_result",
          "data": {
            "text/plain": [
              "                                               Title  \\\n",
              "0  The cascade auction – a mechanism for deterrin...   \n",
              "1  Basis Adaptation for Sparse Nonlinear Reinforc...   \n",
              "2  Optimal Coalition Structures in Cooperative Gr...   \n",
              "3  External Memory Best-First Search for Multiple...   \n",
              "4  Posted Prices Exchange for Display Advertising...   \n",
              "\n",
              "                                            Keywords  \\\n",
              "0       Mediators\\nAuctions\\nCollusion\\nAd Exchanges   \n",
              "1  Reinforcement learning\\nSparsity\\nMirror desce...   \n",
              "2  Cooperative Game Theory\\nCoalition Structure G...   \n",
              "3  External-Memory Search\\nParallel Search\\nMulti...   \n",
              "4  Display Advertising\\nDynamic Pricing\\nMarket E...   \n",
              "\n",
              "                                              Topics  \\\n",
              "0  Auctions and Market-Based Systems\\nE-Commerce\\...   \n",
              "1  Dimension Reduction/Feature Selection\\nOnline ...   \n",
              "2        Coordination and Collaboration\\nGame Theory   \n",
              "3  Heuristic Search\\nEvaluation and Analysis (Sea...   \n",
              "4  Auctions and Market-Based Systems\\nE-Commerce\\...   \n",
              "\n",
              "                           High-Level Keyword(s)  \\\n",
              "0                             Multiagent Systems   \n",
              "1  Machine Learning\\nReasoning under Uncertainty   \n",
              "2                             Multiagent Systems   \n",
              "3              Heuristic Search and Optimization   \n",
              "4                             Multiagent Systems   \n",
              "\n",
              "                                            Abstract  \n",
              "0  We introduce a sealed bid auction of a single ...  \n",
              "1  This paper presents a new approach to basis ad...  \n",
              "2  Representation  languages for coalitional game...  \n",
              "3  Multiple sequence alignment (MSA) is a central...  \n",
              "4  We propose a new market design for display adv...  "
            ],
            "text/html": [
              "\n",
              "  <div id=\"df-ea89525c-8591-442e-a629-a40fadc433d5\">\n",
              "    <div class=\"colab-df-container\">\n",
              "      <div>\n",
              "<style scoped>\n",
              "    .dataframe tbody tr th:only-of-type {\n",
              "        vertical-align: middle;\n",
              "    }\n",
              "\n",
              "    .dataframe tbody tr th {\n",
              "        vertical-align: top;\n",
              "    }\n",
              "\n",
              "    .dataframe thead th {\n",
              "        text-align: right;\n",
              "    }\n",
              "</style>\n",
              "<table border=\"1\" class=\"dataframe\">\n",
              "  <thead>\n",
              "    <tr style=\"text-align: right;\">\n",
              "      <th></th>\n",
              "      <th>Title</th>\n",
              "      <th>Keywords</th>\n",
              "      <th>Topics</th>\n",
              "      <th>High-Level Keyword(s)</th>\n",
              "      <th>Abstract</th>\n",
              "    </tr>\n",
              "  </thead>\n",
              "  <tbody>\n",
              "    <tr>\n",
              "      <th>0</th>\n",
              "      <td>The cascade auction – a mechanism for deterrin...</td>\n",
              "      <td>Mediators\\nAuctions\\nCollusion\\nAd Exchanges</td>\n",
              "      <td>Auctions and Market-Based Systems\\nE-Commerce\\...</td>\n",
              "      <td>Multiagent Systems</td>\n",
              "      <td>We introduce a sealed bid auction of a single ...</td>\n",
              "    </tr>\n",
              "    <tr>\n",
              "      <th>1</th>\n",
              "      <td>Basis Adaptation for Sparse Nonlinear Reinforc...</td>\n",
              "      <td>Reinforcement learning\\nSparsity\\nMirror desce...</td>\n",
              "      <td>Dimension Reduction/Feature Selection\\nOnline ...</td>\n",
              "      <td>Machine Learning\\nReasoning under Uncertainty</td>\n",
              "      <td>This paper presents a new approach to basis ad...</td>\n",
              "    </tr>\n",
              "    <tr>\n",
              "      <th>2</th>\n",
              "      <td>Optimal Coalition Structures in Cooperative Gr...</td>\n",
              "      <td>Cooperative Game Theory\\nCoalition Structure G...</td>\n",
              "      <td>Coordination and Collaboration\\nGame Theory</td>\n",
              "      <td>Multiagent Systems</td>\n",
              "      <td>Representation  languages for coalitional game...</td>\n",
              "    </tr>\n",
              "    <tr>\n",
              "      <th>3</th>\n",
              "      <td>External Memory Best-First Search for Multiple...</td>\n",
              "      <td>External-Memory Search\\nParallel Search\\nMulti...</td>\n",
              "      <td>Heuristic Search\\nEvaluation and Analysis (Sea...</td>\n",
              "      <td>Heuristic Search and Optimization</td>\n",
              "      <td>Multiple sequence alignment (MSA) is a central...</td>\n",
              "    </tr>\n",
              "    <tr>\n",
              "      <th>4</th>\n",
              "      <td>Posted Prices Exchange for Display Advertising...</td>\n",
              "      <td>Display Advertising\\nDynamic Pricing\\nMarket E...</td>\n",
              "      <td>Auctions and Market-Based Systems\\nE-Commerce\\...</td>\n",
              "      <td>Multiagent Systems</td>\n",
              "      <td>We propose a new market design for display adv...</td>\n",
              "    </tr>\n",
              "  </tbody>\n",
              "</table>\n",
              "</div>\n",
              "      <button class=\"colab-df-convert\" onclick=\"convertToInteractive('df-ea89525c-8591-442e-a629-a40fadc433d5')\"\n",
              "              title=\"Convert this dataframe to an interactive table.\"\n",
              "              style=\"display:none;\">\n",
              "        \n",
              "  <svg xmlns=\"http://www.w3.org/2000/svg\" height=\"24px\"viewBox=\"0 0 24 24\"\n",
              "       width=\"24px\">\n",
              "    <path d=\"M0 0h24v24H0V0z\" fill=\"none\"/>\n",
              "    <path d=\"M18.56 5.44l.94 2.06.94-2.06 2.06-.94-2.06-.94-.94-2.06-.94 2.06-2.06.94zm-11 1L8.5 8.5l.94-2.06 2.06-.94-2.06-.94L8.5 2.5l-.94 2.06-2.06.94zm10 10l.94 2.06.94-2.06 2.06-.94-2.06-.94-.94-2.06-.94 2.06-2.06.94z\"/><path d=\"M17.41 7.96l-1.37-1.37c-.4-.4-.92-.59-1.43-.59-.52 0-1.04.2-1.43.59L10.3 9.45l-7.72 7.72c-.78.78-.78 2.05 0 2.83L4 21.41c.39.39.9.59 1.41.59.51 0 1.02-.2 1.41-.59l7.78-7.78 2.81-2.81c.8-.78.8-2.07 0-2.86zM5.41 20L4 18.59l7.72-7.72 1.47 1.35L5.41 20z\"/>\n",
              "  </svg>\n",
              "      </button>\n",
              "      \n",
              "  <style>\n",
              "    .colab-df-container {\n",
              "      display:flex;\n",
              "      flex-wrap:wrap;\n",
              "      gap: 12px;\n",
              "    }\n",
              "\n",
              "    .colab-df-convert {\n",
              "      background-color: #E8F0FE;\n",
              "      border: none;\n",
              "      border-radius: 50%;\n",
              "      cursor: pointer;\n",
              "      display: none;\n",
              "      fill: #1967D2;\n",
              "      height: 32px;\n",
              "      padding: 0 0 0 0;\n",
              "      width: 32px;\n",
              "    }\n",
              "\n",
              "    .colab-df-convert:hover {\n",
              "      background-color: #E2EBFA;\n",
              "      box-shadow: 0px 1px 2px rgba(60, 64, 67, 0.3), 0px 1px 3px 1px rgba(60, 64, 67, 0.15);\n",
              "      fill: #174EA6;\n",
              "    }\n",
              "\n",
              "    [theme=dark] .colab-df-convert {\n",
              "      background-color: #3B4455;\n",
              "      fill: #D2E3FC;\n",
              "    }\n",
              "\n",
              "    [theme=dark] .colab-df-convert:hover {\n",
              "      background-color: #434B5C;\n",
              "      box-shadow: 0px 1px 3px 1px rgba(0, 0, 0, 0.15);\n",
              "      filter: drop-shadow(0px 1px 2px rgba(0, 0, 0, 0.3));\n",
              "      fill: #FFFFFF;\n",
              "    }\n",
              "  </style>\n",
              "\n",
              "      <script>\n",
              "        const buttonEl =\n",
              "          document.querySelector('#df-ea89525c-8591-442e-a629-a40fadc433d5 button.colab-df-convert');\n",
              "        buttonEl.style.display =\n",
              "          google.colab.kernel.accessAllowed ? 'block' : 'none';\n",
              "\n",
              "        async function convertToInteractive(key) {\n",
              "          const element = document.querySelector('#df-ea89525c-8591-442e-a629-a40fadc433d5');\n",
              "          const dataTable =\n",
              "            await google.colab.kernel.invokeFunction('convertToInteractive',\n",
              "                                                     [key], {});\n",
              "          if (!dataTable) return;\n",
              "\n",
              "          const docLinkHtml = 'Like what you see? Visit the ' +\n",
              "            '<a target=\"_blank\" href=https://colab.research.google.com/notebooks/data_table.ipynb>data table notebook</a>'\n",
              "            + ' to learn more about interactive tables.';\n",
              "          element.innerHTML = '';\n",
              "          dataTable['output_type'] = 'display_data';\n",
              "          await google.colab.output.renderOutput(dataTable, element);\n",
              "          const docLink = document.createElement('div');\n",
              "          docLink.innerHTML = docLinkHtml;\n",
              "          element.appendChild(docLink);\n",
              "        }\n",
              "      </script>\n",
              "    </div>\n",
              "  </div>\n",
              "  "
            ]
          },
          "metadata": {},
          "execution_count": 7
        }
      ]
    },
    {
      "cell_type": "code",
      "source": [
        "df.info()"
      ],
      "metadata": {
        "colab": {
          "base_uri": "https://localhost:8080/"
        },
        "id": "GMl9whIq54B2",
        "outputId": "99613487-3b88-4c1e-bc57-c220f92b5249"
      },
      "execution_count": 8,
      "outputs": [
        {
          "output_type": "stream",
          "name": "stdout",
          "text": [
            "<class 'pandas.core.frame.DataFrame'>\n",
            "RangeIndex: 150 entries, 0 to 149\n",
            "Data columns (total 5 columns):\n",
            " #   Column                 Non-Null Count  Dtype \n",
            "---  ------                 --------------  ----- \n",
            " 0   Title                  150 non-null    object\n",
            " 1   Keywords               150 non-null    object\n",
            " 2   Topics                 150 non-null    object\n",
            " 3   High-Level Keyword(s)  150 non-null    object\n",
            " 4   Abstract               150 non-null    object\n",
            "dtypes: object(5)\n",
            "memory usage: 6.0+ KB\n"
          ]
        }
      ]
    },
    {
      "cell_type": "markdown",
      "source": [
        "# Text Preprocessing"
      ],
      "metadata": {
        "id": "VRMbAvtA3mRx"
      }
    },
    {
      "cell_type": "markdown",
      "source": [
        "Null value check"
      ],
      "metadata": {
        "id": "ENE9E2Ub4iuZ"
      }
    },
    {
      "cell_type": "code",
      "source": [
        "missing_values = df.isna().sum()\n",
        "print(missing_values[missing_values>0])"
      ],
      "metadata": {
        "colab": {
          "base_uri": "https://localhost:8080/"
        },
        "id": "rYZ8kxOb3NkX",
        "outputId": "d754d518-d381-4383-adde-6569349e4a77"
      },
      "execution_count": 9,
      "outputs": [
        {
          "output_type": "stream",
          "name": "stdout",
          "text": [
            "Series([], dtype: int64)\n"
          ]
        }
      ]
    },
    {
      "cell_type": "markdown",
      "source": [
        "Apply various text transformations (on a copy of the dataframe)."
      ],
      "metadata": {
        "id": "CETIkcoOxrYc"
      }
    },
    {
      "cell_type": "code",
      "source": [
        "df2 = df.copy(deep=True)\n",
        "\n",
        "# convert to lower case\n",
        "df2 = df2.apply(lambda x: x.str.lower())\n",
        "\n",
        "# fix contractions (E.g. it's => it is, I'm => I am, etc.)\n",
        "df2 = df2.apply(lambda x:[contractions.fix(i) for i in x])\n",
        "\n",
        "# To make keywords to arrays, first replace [' or ', ' and ', '\\n' , '(', ')', '/'] with ' \\n '\n",
        "keywordcols = ['Keywords', 'Topics', 'High-Level Keyword(s)']\n",
        "df2[keywordcols] = df2[keywordcols].apply(lambda x:[re.sub('( or | and |\\\\n|\\(|\\)|\\/)', ' \\n ', i) for i in x])\n",
        "\n",
        "# Replace special characters (preserving space and \\n) in keyowrd cols\n",
        "df2[keywordcols] = df2[keywordcols].apply(lambda x: [re.sub('[^a-z0-9 \\n]', ' ', i) for i in x])\n",
        "\n",
        "# Replace special characters (preserving only space) in nonkey cols\n",
        "nonkeycols = list(set(df2.columns) - set(keywordcols))\n",
        "df2[nonkeycols] = df2[nonkeycols].apply(lambda x: [re.sub('[^a-z0-9]', ' ', i) for i in x])\n",
        "\n",
        "# correct any misspelled words before splitting keywords\n",
        "corrector = autocorrect.Speller()\n",
        "df2 = df2.apply(lambda x: [corrector(i) for i in x])\n",
        "df2.head()\n",
        "\n",
        "# tokenize keywords (for clustering based on keywords)\n",
        "df2[keywordcols] = df2[keywordcols].apply(lambda x:[[j.strip() for j in i.split('\\n')] for i in x])\n",
        "\n",
        "# tokenize nonkey columns\n",
        "df2[nonkeycols] = df2[nonkeycols].apply(lambda x:[nltk.tokenize.word_tokenize(i) for i in x])\n",
        "\n",
        "# remove stop words from non key columns\n",
        "df2[nonkeycols] = df2[nonkeycols].apply(\n",
        "    lambda x: [\n",
        "               [ w for w in wordlist if w not in nltk.corpus.stopwords.words('english')] \n",
        "               for wordlist in x])"
      ],
      "metadata": {
        "id": "5ef_xL7x9XVY"
      },
      "execution_count": 10,
      "outputs": []
    },
    {
      "cell_type": "markdown",
      "source": [
        "Not sure of why this happens, but the `lemmatize()` function works only after a few retries."
      ],
      "metadata": {
        "id": "6WTef7m0ytQM"
      }
    },
    {
      "cell_type": "code",
      "source": [
        "# Lemmatize tokens in nonkey cols\n",
        "for attempt in range(1, 11):\n",
        "  try:\n",
        "    print(f'Lemmatize attempt: {attempt}')\n",
        "    df2[nonkeycols] = df2[nonkeycols].apply(lambda x: [ \n",
        "                  [ (l.decode('utf-8')).split('/', 1)[0]\n",
        "                    for w in wordlist for l in lemmatize(w)]\n",
        "                  for wordlist in x])\n",
        "    print(f'Attempt {attempt} success!')\n",
        "    break\n",
        "  except:\n",
        "    pass"
      ],
      "metadata": {
        "colab": {
          "base_uri": "https://localhost:8080/"
        },
        "id": "h2tgD2T7t7Hz",
        "outputId": "9538e7f5-d05b-4086-d4c9-42e594f481f2"
      },
      "execution_count": 11,
      "outputs": [
        {
          "output_type": "stream",
          "name": "stdout",
          "text": [
            "Lemmatize attempt: 1\n",
            "Lemmatize attempt: 2\n",
            "Lemmatize attempt: 3\n",
            "Lemmatize attempt: 4\n",
            "Attempt 4 success!\n"
          ]
        }
      ]
    },
    {
      "cell_type": "code",
      "source": [
        "df2.head()"
      ],
      "metadata": {
        "colab": {
          "base_uri": "https://localhost:8080/",
          "height": 447
        },
        "id": "w9e8EzBZAVxE",
        "outputId": "3ad87d44-dc37-45a3-c198-4805edca1c65"
      },
      "execution_count": 12,
      "outputs": [
        {
          "output_type": "execute_result",
          "data": {
            "text/plain": [
              "                                               Title  \\\n",
              "0  [cascade, auction, mechanism, determine, collu...   \n",
              "1  [basis, adaptation, sparse, nonlinear, reinfor...   \n",
              "2  [optimal, coalition, structure, cooperative, g...   \n",
              "3  [external, memory, best, first, search, multip...   \n",
              "4  [post, price, exchange, display, advertising, ...   \n",
              "\n",
              "                                            Keywords  \\\n",
              "0     [mediators, auctions, collusion, ad exchanges]   \n",
              "1  [reinforcement learning, varsity, mirror desce...   \n",
              "2  [cooperative game theory, coalition structure ...   \n",
              "3  [external memory search, parallel search, mult...   \n",
              "4  [display advertising, dynamic pricing, market ...   \n",
              "\n",
              "                                              Topics  \\\n",
              "0  [auctions, market based systems, e commerce, g...   \n",
              "1  [dimension reduction, feature selection, onlin...   \n",
              "2         [coordination, collaboration, game theory]   \n",
              "3  [heuristic search, evaluation, analysis, searc...   \n",
              "4  [auctions, market based systems, e commerce, m...   \n",
              "\n",
              "                             High-Level Keyword(s)  \\\n",
              "0                             [multiagent systems]   \n",
              "1  [machine learning, reasoning under uncertainty]   \n",
              "2                             [multiagent systems]   \n",
              "3                 [heuristic search, optimization]   \n",
              "4                             [multiagent systems]   \n",
              "\n",
              "                                            Abstract  \n",
              "0  [introduce, seal, bid, auction, single, item, ...  \n",
              "1  [paper, present, new, approach, basis, adaptat...  \n",
              "2  [representation, language, coalition, game, ke...  \n",
              "3  [multiple, sequence, alignment, msa, central, ...  \n",
              "4  [propose, new, market, design, display, advert...  "
            ],
            "text/html": [
              "\n",
              "  <div id=\"df-38fb326b-b7a8-491d-81e0-858058bd2437\">\n",
              "    <div class=\"colab-df-container\">\n",
              "      <div>\n",
              "<style scoped>\n",
              "    .dataframe tbody tr th:only-of-type {\n",
              "        vertical-align: middle;\n",
              "    }\n",
              "\n",
              "    .dataframe tbody tr th {\n",
              "        vertical-align: top;\n",
              "    }\n",
              "\n",
              "    .dataframe thead th {\n",
              "        text-align: right;\n",
              "    }\n",
              "</style>\n",
              "<table border=\"1\" class=\"dataframe\">\n",
              "  <thead>\n",
              "    <tr style=\"text-align: right;\">\n",
              "      <th></th>\n",
              "      <th>Title</th>\n",
              "      <th>Keywords</th>\n",
              "      <th>Topics</th>\n",
              "      <th>High-Level Keyword(s)</th>\n",
              "      <th>Abstract</th>\n",
              "    </tr>\n",
              "  </thead>\n",
              "  <tbody>\n",
              "    <tr>\n",
              "      <th>0</th>\n",
              "      <td>[cascade, auction, mechanism, determine, collu...</td>\n",
              "      <td>[mediators, auctions, collusion, ad exchanges]</td>\n",
              "      <td>[auctions, market based systems, e commerce, g...</td>\n",
              "      <td>[multiagent systems]</td>\n",
              "      <td>[introduce, seal, bid, auction, single, item, ...</td>\n",
              "    </tr>\n",
              "    <tr>\n",
              "      <th>1</th>\n",
              "      <td>[basis, adaptation, sparse, nonlinear, reinfor...</td>\n",
              "      <td>[reinforcement learning, varsity, mirror desce...</td>\n",
              "      <td>[dimension reduction, feature selection, onlin...</td>\n",
              "      <td>[machine learning, reasoning under uncertainty]</td>\n",
              "      <td>[paper, present, new, approach, basis, adaptat...</td>\n",
              "    </tr>\n",
              "    <tr>\n",
              "      <th>2</th>\n",
              "      <td>[optimal, coalition, structure, cooperative, g...</td>\n",
              "      <td>[cooperative game theory, coalition structure ...</td>\n",
              "      <td>[coordination, collaboration, game theory]</td>\n",
              "      <td>[multiagent systems]</td>\n",
              "      <td>[representation, language, coalition, game, ke...</td>\n",
              "    </tr>\n",
              "    <tr>\n",
              "      <th>3</th>\n",
              "      <td>[external, memory, best, first, search, multip...</td>\n",
              "      <td>[external memory search, parallel search, mult...</td>\n",
              "      <td>[heuristic search, evaluation, analysis, searc...</td>\n",
              "      <td>[heuristic search, optimization]</td>\n",
              "      <td>[multiple, sequence, alignment, msa, central, ...</td>\n",
              "    </tr>\n",
              "    <tr>\n",
              "      <th>4</th>\n",
              "      <td>[post, price, exchange, display, advertising, ...</td>\n",
              "      <td>[display advertising, dynamic pricing, market ...</td>\n",
              "      <td>[auctions, market based systems, e commerce, m...</td>\n",
              "      <td>[multiagent systems]</td>\n",
              "      <td>[propose, new, market, design, display, advert...</td>\n",
              "    </tr>\n",
              "  </tbody>\n",
              "</table>\n",
              "</div>\n",
              "      <button class=\"colab-df-convert\" onclick=\"convertToInteractive('df-38fb326b-b7a8-491d-81e0-858058bd2437')\"\n",
              "              title=\"Convert this dataframe to an interactive table.\"\n",
              "              style=\"display:none;\">\n",
              "        \n",
              "  <svg xmlns=\"http://www.w3.org/2000/svg\" height=\"24px\"viewBox=\"0 0 24 24\"\n",
              "       width=\"24px\">\n",
              "    <path d=\"M0 0h24v24H0V0z\" fill=\"none\"/>\n",
              "    <path d=\"M18.56 5.44l.94 2.06.94-2.06 2.06-.94-2.06-.94-.94-2.06-.94 2.06-2.06.94zm-11 1L8.5 8.5l.94-2.06 2.06-.94-2.06-.94L8.5 2.5l-.94 2.06-2.06.94zm10 10l.94 2.06.94-2.06 2.06-.94-2.06-.94-.94-2.06-.94 2.06-2.06.94z\"/><path d=\"M17.41 7.96l-1.37-1.37c-.4-.4-.92-.59-1.43-.59-.52 0-1.04.2-1.43.59L10.3 9.45l-7.72 7.72c-.78.78-.78 2.05 0 2.83L4 21.41c.39.39.9.59 1.41.59.51 0 1.02-.2 1.41-.59l7.78-7.78 2.81-2.81c.8-.78.8-2.07 0-2.86zM5.41 20L4 18.59l7.72-7.72 1.47 1.35L5.41 20z\"/>\n",
              "  </svg>\n",
              "      </button>\n",
              "      \n",
              "  <style>\n",
              "    .colab-df-container {\n",
              "      display:flex;\n",
              "      flex-wrap:wrap;\n",
              "      gap: 12px;\n",
              "    }\n",
              "\n",
              "    .colab-df-convert {\n",
              "      background-color: #E8F0FE;\n",
              "      border: none;\n",
              "      border-radius: 50%;\n",
              "      cursor: pointer;\n",
              "      display: none;\n",
              "      fill: #1967D2;\n",
              "      height: 32px;\n",
              "      padding: 0 0 0 0;\n",
              "      width: 32px;\n",
              "    }\n",
              "\n",
              "    .colab-df-convert:hover {\n",
              "      background-color: #E2EBFA;\n",
              "      box-shadow: 0px 1px 2px rgba(60, 64, 67, 0.3), 0px 1px 3px 1px rgba(60, 64, 67, 0.15);\n",
              "      fill: #174EA6;\n",
              "    }\n",
              "\n",
              "    [theme=dark] .colab-df-convert {\n",
              "      background-color: #3B4455;\n",
              "      fill: #D2E3FC;\n",
              "    }\n",
              "\n",
              "    [theme=dark] .colab-df-convert:hover {\n",
              "      background-color: #434B5C;\n",
              "      box-shadow: 0px 1px 3px 1px rgba(0, 0, 0, 0.15);\n",
              "      filter: drop-shadow(0px 1px 2px rgba(0, 0, 0, 0.3));\n",
              "      fill: #FFFFFF;\n",
              "    }\n",
              "  </style>\n",
              "\n",
              "      <script>\n",
              "        const buttonEl =\n",
              "          document.querySelector('#df-38fb326b-b7a8-491d-81e0-858058bd2437 button.colab-df-convert');\n",
              "        buttonEl.style.display =\n",
              "          google.colab.kernel.accessAllowed ? 'block' : 'none';\n",
              "\n",
              "        async function convertToInteractive(key) {\n",
              "          const element = document.querySelector('#df-38fb326b-b7a8-491d-81e0-858058bd2437');\n",
              "          const dataTable =\n",
              "            await google.colab.kernel.invokeFunction('convertToInteractive',\n",
              "                                                     [key], {});\n",
              "          if (!dataTable) return;\n",
              "\n",
              "          const docLinkHtml = 'Like what you see? Visit the ' +\n",
              "            '<a target=\"_blank\" href=https://colab.research.google.com/notebooks/data_table.ipynb>data table notebook</a>'\n",
              "            + ' to learn more about interactive tables.';\n",
              "          element.innerHTML = '';\n",
              "          dataTable['output_type'] = 'display_data';\n",
              "          await google.colab.output.renderOutput(dataTable, element);\n",
              "          const docLink = document.createElement('div');\n",
              "          docLink.innerHTML = docLinkHtml;\n",
              "          element.appendChild(docLink);\n",
              "        }\n",
              "      </script>\n",
              "    </div>\n",
              "  </div>\n",
              "  "
            ]
          },
          "metadata": {},
          "execution_count": 12
        }
      ]
    },
    {
      "cell_type": "code",
      "source": [
        "df.head()"
      ],
      "metadata": {
        "colab": {
          "base_uri": "https://localhost:8080/",
          "height": 975
        },
        "id": "_Ln0PQZkmw9S",
        "outputId": "88039377-8213-47d4-8c7a-caf5c5f1d788"
      },
      "execution_count": 13,
      "outputs": [
        {
          "output_type": "execute_result",
          "data": {
            "text/plain": [
              "                                               Title  \\\n",
              "0  The cascade auction – a mechanism for deterrin...   \n",
              "1  Basis Adaptation for Sparse Nonlinear Reinforc...   \n",
              "2  Optimal Coalition Structures in Cooperative Gr...   \n",
              "3  External Memory Best-First Search for Multiple...   \n",
              "4  Posted Prices Exchange for Display Advertising...   \n",
              "\n",
              "                                            Keywords  \\\n",
              "0       Mediators\\nAuctions\\nCollusion\\nAd Exchanges   \n",
              "1  Reinforcement learning\\nSparsity\\nMirror desce...   \n",
              "2  Cooperative Game Theory\\nCoalition Structure G...   \n",
              "3  External-Memory Search\\nParallel Search\\nMulti...   \n",
              "4  Display Advertising\\nDynamic Pricing\\nMarket E...   \n",
              "\n",
              "                                              Topics  \\\n",
              "0  Auctions and Market-Based Systems\\nE-Commerce\\...   \n",
              "1  Dimension Reduction/Feature Selection\\nOnline ...   \n",
              "2        Coordination and Collaboration\\nGame Theory   \n",
              "3  Heuristic Search\\nEvaluation and Analysis (Sea...   \n",
              "4  Auctions and Market-Based Systems\\nE-Commerce\\...   \n",
              "\n",
              "                           High-Level Keyword(s)  \\\n",
              "0                             Multiagent Systems   \n",
              "1  Machine Learning\\nReasoning under Uncertainty   \n",
              "2                             Multiagent Systems   \n",
              "3              Heuristic Search and Optimization   \n",
              "4                             Multiagent Systems   \n",
              "\n",
              "                                            Abstract  \n",
              "0  We introduce a sealed bid auction of a single ...  \n",
              "1  This paper presents a new approach to basis ad...  \n",
              "2  Representation  languages for coalitional game...  \n",
              "3  Multiple sequence alignment (MSA) is a central...  \n",
              "4  We propose a new market design for display adv...  "
            ],
            "text/html": [
              "\n",
              "  <div id=\"df-293ddb22-2c9b-4428-95ff-f478533e4be6\">\n",
              "    <div class=\"colab-df-container\">\n",
              "      <div>\n",
              "<style scoped>\n",
              "    .dataframe tbody tr th:only-of-type {\n",
              "        vertical-align: middle;\n",
              "    }\n",
              "\n",
              "    .dataframe tbody tr th {\n",
              "        vertical-align: top;\n",
              "    }\n",
              "\n",
              "    .dataframe thead th {\n",
              "        text-align: right;\n",
              "    }\n",
              "</style>\n",
              "<table border=\"1\" class=\"dataframe\">\n",
              "  <thead>\n",
              "    <tr style=\"text-align: right;\">\n",
              "      <th></th>\n",
              "      <th>Title</th>\n",
              "      <th>Keywords</th>\n",
              "      <th>Topics</th>\n",
              "      <th>High-Level Keyword(s)</th>\n",
              "      <th>Abstract</th>\n",
              "    </tr>\n",
              "  </thead>\n",
              "  <tbody>\n",
              "    <tr>\n",
              "      <th>0</th>\n",
              "      <td>The cascade auction – a mechanism for deterrin...</td>\n",
              "      <td>Mediators\\nAuctions\\nCollusion\\nAd Exchanges</td>\n",
              "      <td>Auctions and Market-Based Systems\\nE-Commerce\\...</td>\n",
              "      <td>Multiagent Systems</td>\n",
              "      <td>We introduce a sealed bid auction of a single ...</td>\n",
              "    </tr>\n",
              "    <tr>\n",
              "      <th>1</th>\n",
              "      <td>Basis Adaptation for Sparse Nonlinear Reinforc...</td>\n",
              "      <td>Reinforcement learning\\nSparsity\\nMirror desce...</td>\n",
              "      <td>Dimension Reduction/Feature Selection\\nOnline ...</td>\n",
              "      <td>Machine Learning\\nReasoning under Uncertainty</td>\n",
              "      <td>This paper presents a new approach to basis ad...</td>\n",
              "    </tr>\n",
              "    <tr>\n",
              "      <th>2</th>\n",
              "      <td>Optimal Coalition Structures in Cooperative Gr...</td>\n",
              "      <td>Cooperative Game Theory\\nCoalition Structure G...</td>\n",
              "      <td>Coordination and Collaboration\\nGame Theory</td>\n",
              "      <td>Multiagent Systems</td>\n",
              "      <td>Representation  languages for coalitional game...</td>\n",
              "    </tr>\n",
              "    <tr>\n",
              "      <th>3</th>\n",
              "      <td>External Memory Best-First Search for Multiple...</td>\n",
              "      <td>External-Memory Search\\nParallel Search\\nMulti...</td>\n",
              "      <td>Heuristic Search\\nEvaluation and Analysis (Sea...</td>\n",
              "      <td>Heuristic Search and Optimization</td>\n",
              "      <td>Multiple sequence alignment (MSA) is a central...</td>\n",
              "    </tr>\n",
              "    <tr>\n",
              "      <th>4</th>\n",
              "      <td>Posted Prices Exchange for Display Advertising...</td>\n",
              "      <td>Display Advertising\\nDynamic Pricing\\nMarket E...</td>\n",
              "      <td>Auctions and Market-Based Systems\\nE-Commerce\\...</td>\n",
              "      <td>Multiagent Systems</td>\n",
              "      <td>We propose a new market design for display adv...</td>\n",
              "    </tr>\n",
              "  </tbody>\n",
              "</table>\n",
              "</div>\n",
              "      <button class=\"colab-df-convert\" onclick=\"convertToInteractive('df-293ddb22-2c9b-4428-95ff-f478533e4be6')\"\n",
              "              title=\"Convert this dataframe to an interactive table.\"\n",
              "              style=\"display:none;\">\n",
              "        \n",
              "  <svg xmlns=\"http://www.w3.org/2000/svg\" height=\"24px\"viewBox=\"0 0 24 24\"\n",
              "       width=\"24px\">\n",
              "    <path d=\"M0 0h24v24H0V0z\" fill=\"none\"/>\n",
              "    <path d=\"M18.56 5.44l.94 2.06.94-2.06 2.06-.94-2.06-.94-.94-2.06-.94 2.06-2.06.94zm-11 1L8.5 8.5l.94-2.06 2.06-.94-2.06-.94L8.5 2.5l-.94 2.06-2.06.94zm10 10l.94 2.06.94-2.06 2.06-.94-2.06-.94-.94-2.06-.94 2.06-2.06.94z\"/><path d=\"M17.41 7.96l-1.37-1.37c-.4-.4-.92-.59-1.43-.59-.52 0-1.04.2-1.43.59L10.3 9.45l-7.72 7.72c-.78.78-.78 2.05 0 2.83L4 21.41c.39.39.9.59 1.41.59.51 0 1.02-.2 1.41-.59l7.78-7.78 2.81-2.81c.8-.78.8-2.07 0-2.86zM5.41 20L4 18.59l7.72-7.72 1.47 1.35L5.41 20z\"/>\n",
              "  </svg>\n",
              "      </button>\n",
              "      \n",
              "  <style>\n",
              "    .colab-df-container {\n",
              "      display:flex;\n",
              "      flex-wrap:wrap;\n",
              "      gap: 12px;\n",
              "    }\n",
              "\n",
              "    .colab-df-convert {\n",
              "      background-color: #E8F0FE;\n",
              "      border: none;\n",
              "      border-radius: 50%;\n",
              "      cursor: pointer;\n",
              "      display: none;\n",
              "      fill: #1967D2;\n",
              "      height: 32px;\n",
              "      padding: 0 0 0 0;\n",
              "      width: 32px;\n",
              "    }\n",
              "\n",
              "    .colab-df-convert:hover {\n",
              "      background-color: #E2EBFA;\n",
              "      box-shadow: 0px 1px 2px rgba(60, 64, 67, 0.3), 0px 1px 3px 1px rgba(60, 64, 67, 0.15);\n",
              "      fill: #174EA6;\n",
              "    }\n",
              "\n",
              "    [theme=dark] .colab-df-convert {\n",
              "      background-color: #3B4455;\n",
              "      fill: #D2E3FC;\n",
              "    }\n",
              "\n",
              "    [theme=dark] .colab-df-convert:hover {\n",
              "      background-color: #434B5C;\n",
              "      box-shadow: 0px 1px 3px 1px rgba(0, 0, 0, 0.15);\n",
              "      filter: drop-shadow(0px 1px 2px rgba(0, 0, 0, 0.3));\n",
              "      fill: #FFFFFF;\n",
              "    }\n",
              "  </style>\n",
              "\n",
              "      <script>\n",
              "        const buttonEl =\n",
              "          document.querySelector('#df-293ddb22-2c9b-4428-95ff-f478533e4be6 button.colab-df-convert');\n",
              "        buttonEl.style.display =\n",
              "          google.colab.kernel.accessAllowed ? 'block' : 'none';\n",
              "\n",
              "        async function convertToInteractive(key) {\n",
              "          const element = document.querySelector('#df-293ddb22-2c9b-4428-95ff-f478533e4be6');\n",
              "          const dataTable =\n",
              "            await google.colab.kernel.invokeFunction('convertToInteractive',\n",
              "                                                     [key], {});\n",
              "          if (!dataTable) return;\n",
              "\n",
              "          const docLinkHtml = 'Like what you see? Visit the ' +\n",
              "            '<a target=\"_blank\" href=https://colab.research.google.com/notebooks/data_table.ipynb>data table notebook</a>'\n",
              "            + ' to learn more about interactive tables.';\n",
              "          element.innerHTML = '';\n",
              "          dataTable['output_type'] = 'display_data';\n",
              "          await google.colab.output.renderOutput(dataTable, element);\n",
              "          const docLink = document.createElement('div');\n",
              "          docLink.innerHTML = docLinkHtml;\n",
              "          element.appendChild(docLink);\n",
              "        }\n",
              "      </script>\n",
              "    </div>\n",
              "  </div>\n",
              "  "
            ]
          },
          "metadata": {},
          "execution_count": 13
        }
      ]
    },
    {
      "cell_type": "code",
      "source": [
        "df = df2.copy(deep=True)"
      ],
      "metadata": {
        "id": "3Ymu6oXFwHbr"
      },
      "execution_count": 14,
      "outputs": []
    },
    {
      "cell_type": "code",
      "source": [
        ""
      ],
      "metadata": {
        "id": "H6pQiq54zEBw"
      },
      "execution_count": 14,
      "outputs": []
    }
  ]
}